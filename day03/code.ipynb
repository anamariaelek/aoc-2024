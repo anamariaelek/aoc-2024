{
 "cells": [
  {
   "cell_type": "markdown",
   "metadata": {},
   "source": [
    "# Day 3: Mull It Over\n",
    "\n",
    "### Part One\n",
    "\"Our computers are having issues, so I have no idea if we have any Chief Historians in stock! You're welcome to check the warehouse, though,\" says the mildly flustered shopkeeper at the North Pole Toboggan Rental Shop. The Historians head out to take a look.\n",
    "\n",
    "The shopkeeper turns to you. \"Any chance you can see why our computers are having issues again?\"\n",
    "\n",
    "The computer appears to be trying to run a program, but its memory (your puzzle input) is corrupted. All of the instructions have been jumbled up!\n",
    "\n",
    "It seems like the goal of the program is just to multiply some numbers. It does that with instructions like `mul(X,Y)`, where `X` and `Y` are each 1-3 digit numbers. For instance, `mul(44,46)` multiplies `44` by `46` to get a result of `2024`. Similarly, `mul(123,4)` would multiply `123 by 4`.\n",
    "\n",
    "However, because the program's memory has been corrupted, there are also many invalid characters that should be ignored, even if they look like part of a mul instruction. Sequences like `mul(4*`, `mul(6,9!`, `?(12,34)`, or `mul ( 2 , 4 )` do nothing.\n",
    "\n",
    "For example, consider the following section of corrupted memory:\n",
    "\n",
    "x`mul(2,4)`%&mul[3,7]!@^do_not_`mul(5,5)`+mul(32,64]then(`mul(11,8)``mul(8,5))`\n",
    "\n",
    "Only the four highlighted sections are real mul instructions. Adding up the result of each instruction produces `161` `(2*4 + 5*5 + 11*8 + 8*5)`.\n",
    "\n",
    "Scan the corrupted memory for uncorrupted mul instructions. What do you get if you add up all of the results of the multiplications?"
   ]
  },
  {
   "cell_type": "code",
   "execution_count": 1,
   "metadata": {},
   "outputs": [
    {
     "name": "stdout",
     "output_type": "stream",
     "text": [
      "167650499\n"
     ]
    }
   ],
   "source": [
    "import re\n",
    "\n",
    "def get_mul(text, pattern=r'mul\\(\\d+,\\d+\\)'):\n",
    "    \"\"\"\n",
    "    Extract all occurences of pattern from text\n",
    "    \"\"\"\n",
    "    return re.findall(pattern, text)\n",
    "\n",
    "with open('input.txt') as f:\n",
    "    result = [item for sublist in [get_mul(line) for line in f] for item in sublist]\n",
    "\n",
    "count = sum(int(x) * int(y) for x, y in (item.replace('mul(', '').replace(')', '').split(',') for item in result))\n",
    "\n",
    "print(count)"
   ]
  },
  {
   "cell_type": "markdown",
   "metadata": {},
   "source": [
    "### Part Two\n",
    "\n",
    "As you scan through the corrupted memory, you notice that some of the conditional statements are also still intact. If you handle some of the uncorrupted conditional statements in the program, you might be able to get an even more accurate result.\n",
    "\n",
    "There are two new instructions you'll need to handle:\n",
    "\n",
    "- The `do()` instruction enables future `mul` instructions.\n",
    "- The `don't()` instruction disables future `mul` instructions.\n",
    "\n",
    "Only the most recent `do()` or `don't()` instruction applies. At the beginning of the program, `mul` instructions are enabled.\n",
    "\n",
    "For example:\n",
    "\n",
    "x`mul(2,4)`&mul[3,7]!^`don't()`_mul(5,5)+mul(32,64](mul(11,8)un`do()`?`mul(8,5)`)\n",
    "\n",
    "This corrupted memory is similar to the example from before, but this time the `mul(5,5)` and `mul(11,8)` instructions are disabled because there is a `don't()` instruction before them. The other mul instructions function normally, including the one at the end that gets re-enabled by a `do()` instruction.\n",
    "\n",
    "This time, the sum of the results is `48` `(2*4 + 8*5)`.\n",
    "\n",
    "Handle the new instructions; what do you get if you add up all of the results of just the enabled multiplications?"
   ]
  },
  {
   "cell_type": "code",
   "execution_count": 2,
   "metadata": {},
   "outputs": [
    {
     "name": "stdout",
     "output_type": "stream",
     "text": [
      "95846796\n"
     ]
    }
   ],
   "source": [
    "# Extract all instructions\n",
    "with open('input.txt') as f:\n",
    "    result = [item for sublist in [get_mul(line, pattern=r'mul\\(\\d+,\\d+\\)|do\\(\\)|don\\'t\\(\\)') for line in f] for item in sublist if item]\n",
    "\n",
    "# Filter multiplications: remove those following `don't()`, keep those following `do()`\n",
    "enabled = True\n",
    "filtered = []\n",
    "for instruction in result:\n",
    "    if instruction == \"do()\":\n",
    "        enabled = True\n",
    "    elif instruction == \"don't()\":\n",
    "        enabled = False\n",
    "    elif enabled and instruction.startswith(\"mul\"):\n",
    "        filtered.append(instruction)\n",
    "\n",
    "# Calculate the sum of all filtered multiplications\n",
    "count = sum(int(x) * int(y) for x, y in (item.replace('mul(', '').replace(')', '').split(',') for item in filtered))\n",
    "print(count)\n"
   ]
  }
 ],
 "metadata": {
  "kernelspec": {
   "display_name": "base",
   "language": "python",
   "name": "python3"
  },
  "language_info": {
   "codemirror_mode": {
    "name": "ipython",
    "version": 3
   },
   "file_extension": ".py",
   "mimetype": "text/x-python",
   "name": "python",
   "nbconvert_exporter": "python",
   "pygments_lexer": "ipython3",
   "version": "3.9.18"
  }
 },
 "nbformat": 4,
 "nbformat_minor": 2
}
