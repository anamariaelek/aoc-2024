{
 "cells": [
  {
   "cell_type": "markdown",
   "metadata": {},
   "source": [
    "# Day 6: Bridge Repair\n",
    "\n",
    "### Part One\n",
    "\n",
    "The Historians take you to a familiar rope bridge over a river in the middle of a jungle. The Chief isn't on this side of the bridge, though; maybe he's on the other side?\n",
    "\n",
    "When you go to cross the bridge, you notice a group of engineers trying to repair it. (Apparently, it breaks pretty frequently.) You won't be able to cross until it's fixed.\n",
    "\n",
    "You ask how long it'll take; the engineers tell you that it only needs final calibrations, but some young elephants were playing nearby and stole all the operators from their calibration equations! They could finish the calibrations if only someone could determine which test values could possibly be produced by placing any combination of operators into their calibration equations (your puzzle input).\n",
    "\n",
    "For example:\n",
    "```\n",
    "190: 10 19\n",
    "3267: 81 40 27\n",
    "83: 17 5\n",
    "156: 15 6\n",
    "7290: 6 8 6 15\n",
    "161011: 16 10 13\n",
    "192: 17 8 14\n",
    "21037: 9 7 18 13\n",
    "292: 11 6 16 20\n",
    "\n",
    "```\n",
    "\n",
    "Each line represents a single equation. The test value appears before the colon on each line; it is your job to determine whether the remaining numbers can be combined with operators to produce the test value.\n",
    "\n",
    "Operators are always evaluated left-to-right, not according to precedence rules. Furthermore, numbers in the equations cannot be rearranged. Glancing into the jungle, you can see elephants holding two different types of operators: add (`+`) and multiply (`*`).\n",
    "\n",
    "Only three of the above equations can be made true by inserting operators:\n",
    "\n",
    "- `190: 10 19` has only one position that accepts an operator: between `10` and `19`. Choosing `+` would give `29`, but choosing `*` would give the test value (`10 * 19 = 190`).\n",
    "- `3267: 81 40 27` has two positions for operators. Of the four possible configurations of the operators, two cause the right side to match the test value: `81 + 40 * 27` and `81 * 40 + 27` both equal `3267` (when evaluated left-to-right)!\n",
    "- `292: 11 6 16 20` can be solved in exactly one way: `11 + 6 * 16 + 20`.\n",
    "\n",
    "The engineers just need the total calibration result, which is the sum of the test values from just the equations that could possibly be true. In the above example, the sum of the test values for the three equations listed above is `3749`.\n",
    "\n",
    "Determine which equations could possibly be true. What is their total calibration result?"
   ]
  },
  {
   "cell_type": "code",
   "execution_count": 44,
   "metadata": {},
   "outputs": [],
   "source": [
    "# Import data\n",
    "exps = []\n",
    "with open('input.txt') as f:\n",
    "    for line in f:\n",
    "        tot = int(line.split(':')[0])\n",
    "        els = line.split(':')[1].strip()\n",
    "        els = [int(elm) for elm in els.split(' ')]\n",
    "        exps.append([tot, els])"
   ]
  },
  {
   "cell_type": "code",
   "execution_count": 20,
   "metadata": {},
   "outputs": [],
   "source": [
    "# Define function to chec addition or multiplication for consecutive element\n",
    "def check_elem(i, el, res, oper):\n",
    "    if oper == '+':\n",
    "        res += el[1]\n",
    "    elif oper == '*':\n",
    "        res *= el[1]\n",
    "    if res != i and len(el)==2:\n",
    "        return 0\n",
    "    elif res == i and len(el)==2:\n",
    "        return 1\n",
    "    else:\n",
    "        return (\n",
    "            check_elem(i, el[1:], res, oper='+') +\n",
    "            check_elem(i, el[1:], res, oper='*')\n",
    "        )\n"
   ]
  },
  {
   "cell_type": "code",
   "execution_count": 21,
   "metadata": {},
   "outputs": [
    {
     "name": "stdout",
     "output_type": "stream",
     "text": [
      "6083020304036\n"
     ]
    }
   ],
   "source": [
    "# Check all expressions\n",
    "valid_exps = []\n",
    "valid_sums = 0\n",
    "for exp in exps:\n",
    "    i = exp[0]\n",
    "    el = exp[1]\n",
    "    res = exp[1][0]\n",
    "    sums = check_elem(i, el, res, '+')\n",
    "    mults = check_elem(i, el, res, '*')\n",
    "    if (sums + mults > 0):\n",
    "        valid_exps.append(exp[1])\n",
    "        valid_sums += exp[0]\n",
    "print(valid_sums)"
   ]
  },
  {
   "cell_type": "markdown",
   "metadata": {},
   "source": [
    "### Part Two\n",
    "\n",
    "The engineers seem concerned; the total calibration result you gave them is nowhere close to being within safety tolerances. Just then, you spot your mistake: some well-hidden elephants are holding a third type of operator.\n",
    "\n",
    "The concatenation operator (`||`) combines the digits from its left and right inputs into a single number. For example, `12 || 345` would become `12345`. All operators are still evaluated left-to-right.\n",
    "\n",
    "Now, apart from the three equations that could be made true using only addition and multiplication, the above example has three more equations that can be made true by inserting operators:\n",
    "\n",
    "- `156: 15 6` can be made true through a single concatenation: `15 || 6 = 156`.\n",
    "- `7290: 6 8 6 15` can be made true using `6 * 8 || 6 * 15`.\n",
    "- `192: 17 8 14` can be made true using `17 || 8 + 14`.\n",
    "\n",
    "Adding up all six test values (the three that could be made before using only + and `*` plus the new three that can now be made by also using `||`) produces the new total calibration result of `11387`.\n",
    "\n",
    "Using your new knowledge of elephant hiding spots, determine which equations could possibly be true. What is their total calibration result?"
   ]
  },
  {
   "cell_type": "code",
   "execution_count": 42,
   "metadata": {},
   "outputs": [],
   "source": [
    "# Define function to chec addition or multiplication for consecutive element\n",
    "def check_elem(i, el, res, oper):\n",
    "    if oper == '+':\n",
    "        res += el[1]\n",
    "    elif oper == '*':\n",
    "        res *= el[1]\n",
    "    elif oper == '||':\n",
    "        res = int(str(res) + str(el[1]))\n",
    "    if res != i and len(el)==2:\n",
    "        return 0\n",
    "    elif res == i and len(el)==2:\n",
    "        return 1\n",
    "    else:\n",
    "        return (\n",
    "            check_elem(i, el[1:], res, oper='+') +\n",
    "            check_elem(i, el[1:], res, oper='*') +\n",
    "            check_elem(i, el[1:], res, oper='||')\n",
    "        )\n"
   ]
  },
  {
   "cell_type": "code",
   "execution_count": 45,
   "metadata": {},
   "outputs": [
    {
     "name": "stdout",
     "output_type": "stream",
     "text": [
      "59002246504791\n"
     ]
    }
   ],
   "source": [
    "# Check all expressions\n",
    "valid_exps = []\n",
    "valid_sums = 0\n",
    "for exp in exps:\n",
    "    i = exp[0]\n",
    "    el = exp[1]\n",
    "    res = exp[1][0]\n",
    "    sums = check_elem(i, el, res, '+')\n",
    "    mults = check_elem(i, el, res, '*')\n",
    "    concs = check_elem(i, el, res, '||')\n",
    "    if (sums + mults + concs > 0):\n",
    "        valid_exps.append(exp[0])\n",
    "        valid_sums += exp[0]\n",
    "print(valid_sums)"
   ]
  }
 ],
 "metadata": {
  "kernelspec": {
   "display_name": "base",
   "language": "python",
   "name": "python3"
  },
  "language_info": {
   "codemirror_mode": {
    "name": "ipython",
    "version": 3
   },
   "file_extension": ".py",
   "mimetype": "text/x-python",
   "name": "python",
   "nbconvert_exporter": "python",
   "pygments_lexer": "ipython3",
   "version": "3.8.10"
  }
 },
 "nbformat": 4,
 "nbformat_minor": 2
}
